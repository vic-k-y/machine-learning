{
 "cells": [
  {
   "cell_type": "markdown",
   "id": "4842e96b",
   "metadata": {},
   "source": [
    "#  WELCOME \n",
    "#### Thank you for reviewing my Assignment"
   ]
  },
  {
   "cell_type": "markdown",
   "id": "632567f0",
   "metadata": {},
   "source": [
    "### Data choosen - Bangalore(A city in India) Housing Price."
   ]
  },
  {
   "cell_type": "markdown",
   "id": "92f5ef20",
   "metadata": {},
   "source": [
    "# Main Objective\n",
    "     \n",
    "     Iam Taken the House Price data set for my assignment. so, I Decided of using this as \"PREDICTION\" Model. I put my full effort to Finish this assignment and it took me 2 days to figure out some troubules in this Dataset. I hope I did a good work.\n",
    "#### MY MODEL IS PREDICTION BASED."
   ]
  },
  {
   "cell_type": "markdown",
   "id": "dfeb8275",
   "metadata": {},
   "source": [
    "# About My Dataset\n",
    "    AS I mentioned above I have taken Bangalore Housing Dataset. It has Around some 130000+ rows of data and 9 columns of features the data has all type of areas, location in Bangalore. It range of Bedrooms, Restrooms and More. The data also has the society thats the house is Around means the house is build as a community of Houses by the Builder.\n",
    "    The price is mentioned in Lakhs. There is an attribute called availability but I remove that since It doesn't have any feature importance in the data Atleast that's what i thought.  SO, that's about the dataset taken to do my Assignment.\n",
    "### In course they mentioned coding is not important in the Assignment submission but I thought It would be good if I add that So I did."
   ]
  },
  {
   "cell_type": "markdown",
   "id": "44843234",
   "metadata": {},
   "source": [
    "###### importing some lib's"
   ]
  },
  {
   "cell_type": "code",
   "execution_count": 466,
   "id": "04456426",
   "metadata": {},
   "outputs": [],
   "source": [
    "import pandas as pd\n",
    "import numpy as np\n",
    "import matplotlib.pyplot as plt\n"
   ]
  },
  {
   "cell_type": "markdown",
   "id": "216db935",
   "metadata": {},
   "source": [
    "###### loading the data"
   ]
  },
  {
   "cell_type": "code",
   "execution_count": 467,
   "id": "b2eac490",
   "metadata": {},
   "outputs": [
    {
     "data": {
      "text/html": [
       "<div>\n",
       "<style scoped>\n",
       "    .dataframe tbody tr th:only-of-type {\n",
       "        vertical-align: middle;\n",
       "    }\n",
       "\n",
       "    .dataframe tbody tr th {\n",
       "        vertical-align: top;\n",
       "    }\n",
       "\n",
       "    .dataframe thead th {\n",
       "        text-align: right;\n",
       "    }\n",
       "</style>\n",
       "<table border=\"1\" class=\"dataframe\">\n",
       "  <thead>\n",
       "    <tr style=\"text-align: right;\">\n",
       "      <th></th>\n",
       "      <th>area_type</th>\n",
       "      <th>availability</th>\n",
       "      <th>location</th>\n",
       "      <th>size</th>\n",
       "      <th>society</th>\n",
       "      <th>total_sqft</th>\n",
       "      <th>bath</th>\n",
       "      <th>balcony</th>\n",
       "      <th>price</th>\n",
       "    </tr>\n",
       "  </thead>\n",
       "  <tbody>\n",
       "    <tr>\n",
       "      <th>0</th>\n",
       "      <td>Super built-up  Area</td>\n",
       "      <td>19-Dec</td>\n",
       "      <td>Electronic City Phase II</td>\n",
       "      <td>2 BHK</td>\n",
       "      <td>Coomee</td>\n",
       "      <td>1056</td>\n",
       "      <td>2.0</td>\n",
       "      <td>1.0</td>\n",
       "      <td>39.07</td>\n",
       "    </tr>\n",
       "    <tr>\n",
       "      <th>1</th>\n",
       "      <td>Plot  Area</td>\n",
       "      <td>Ready To Move</td>\n",
       "      <td>Chikka Tirupathi</td>\n",
       "      <td>4 Bedroom</td>\n",
       "      <td>Theanmp</td>\n",
       "      <td>2600</td>\n",
       "      <td>5.0</td>\n",
       "      <td>3.0</td>\n",
       "      <td>120.00</td>\n",
       "    </tr>\n",
       "    <tr>\n",
       "      <th>2</th>\n",
       "      <td>Built-up  Area</td>\n",
       "      <td>Ready To Move</td>\n",
       "      <td>Uttarahalli</td>\n",
       "      <td>3 BHK</td>\n",
       "      <td>NaN</td>\n",
       "      <td>1440</td>\n",
       "      <td>2.0</td>\n",
       "      <td>3.0</td>\n",
       "      <td>62.00</td>\n",
       "    </tr>\n",
       "    <tr>\n",
       "      <th>3</th>\n",
       "      <td>Super built-up  Area</td>\n",
       "      <td>Ready To Move</td>\n",
       "      <td>Lingadheeranahalli</td>\n",
       "      <td>3 BHK</td>\n",
       "      <td>Soiewre</td>\n",
       "      <td>1521</td>\n",
       "      <td>3.0</td>\n",
       "      <td>1.0</td>\n",
       "      <td>95.00</td>\n",
       "    </tr>\n",
       "    <tr>\n",
       "      <th>4</th>\n",
       "      <td>Super built-up  Area</td>\n",
       "      <td>Ready To Move</td>\n",
       "      <td>Kothanur</td>\n",
       "      <td>2 BHK</td>\n",
       "      <td>NaN</td>\n",
       "      <td>1200</td>\n",
       "      <td>2.0</td>\n",
       "      <td>1.0</td>\n",
       "      <td>51.00</td>\n",
       "    </tr>\n",
       "    <tr>\n",
       "      <th>...</th>\n",
       "      <td>...</td>\n",
       "      <td>...</td>\n",
       "      <td>...</td>\n",
       "      <td>...</td>\n",
       "      <td>...</td>\n",
       "      <td>...</td>\n",
       "      <td>...</td>\n",
       "      <td>...</td>\n",
       "      <td>...</td>\n",
       "    </tr>\n",
       "    <tr>\n",
       "      <th>13315</th>\n",
       "      <td>Built-up  Area</td>\n",
       "      <td>Ready To Move</td>\n",
       "      <td>Whitefield</td>\n",
       "      <td>5 Bedroom</td>\n",
       "      <td>ArsiaEx</td>\n",
       "      <td>3453</td>\n",
       "      <td>4.0</td>\n",
       "      <td>0.0</td>\n",
       "      <td>231.00</td>\n",
       "    </tr>\n",
       "    <tr>\n",
       "      <th>13316</th>\n",
       "      <td>Super built-up  Area</td>\n",
       "      <td>Ready To Move</td>\n",
       "      <td>Richards Town</td>\n",
       "      <td>4 BHK</td>\n",
       "      <td>NaN</td>\n",
       "      <td>3600</td>\n",
       "      <td>5.0</td>\n",
       "      <td>NaN</td>\n",
       "      <td>400.00</td>\n",
       "    </tr>\n",
       "    <tr>\n",
       "      <th>13317</th>\n",
       "      <td>Built-up  Area</td>\n",
       "      <td>Ready To Move</td>\n",
       "      <td>Raja Rajeshwari Nagar</td>\n",
       "      <td>2 BHK</td>\n",
       "      <td>Mahla T</td>\n",
       "      <td>1141</td>\n",
       "      <td>2.0</td>\n",
       "      <td>1.0</td>\n",
       "      <td>60.00</td>\n",
       "    </tr>\n",
       "    <tr>\n",
       "      <th>13318</th>\n",
       "      <td>Super built-up  Area</td>\n",
       "      <td>18-Jun</td>\n",
       "      <td>Padmanabhanagar</td>\n",
       "      <td>4 BHK</td>\n",
       "      <td>SollyCl</td>\n",
       "      <td>4689</td>\n",
       "      <td>4.0</td>\n",
       "      <td>1.0</td>\n",
       "      <td>488.00</td>\n",
       "    </tr>\n",
       "    <tr>\n",
       "      <th>13319</th>\n",
       "      <td>Super built-up  Area</td>\n",
       "      <td>Ready To Move</td>\n",
       "      <td>Doddathoguru</td>\n",
       "      <td>1 BHK</td>\n",
       "      <td>NaN</td>\n",
       "      <td>550</td>\n",
       "      <td>1.0</td>\n",
       "      <td>1.0</td>\n",
       "      <td>17.00</td>\n",
       "    </tr>\n",
       "  </tbody>\n",
       "</table>\n",
       "<p>13320 rows × 9 columns</p>\n",
       "</div>"
      ],
      "text/plain": [
       "                  area_type   availability                  location  \\\n",
       "0      Super built-up  Area         19-Dec  Electronic City Phase II   \n",
       "1                Plot  Area  Ready To Move          Chikka Tirupathi   \n",
       "2            Built-up  Area  Ready To Move               Uttarahalli   \n",
       "3      Super built-up  Area  Ready To Move        Lingadheeranahalli   \n",
       "4      Super built-up  Area  Ready To Move                  Kothanur   \n",
       "...                     ...            ...                       ...   \n",
       "13315        Built-up  Area  Ready To Move                Whitefield   \n",
       "13316  Super built-up  Area  Ready To Move             Richards Town   \n",
       "13317        Built-up  Area  Ready To Move     Raja Rajeshwari Nagar   \n",
       "13318  Super built-up  Area         18-Jun           Padmanabhanagar   \n",
       "13319  Super built-up  Area  Ready To Move              Doddathoguru   \n",
       "\n",
       "            size  society total_sqft  bath  balcony   price  \n",
       "0          2 BHK  Coomee        1056   2.0      1.0   39.07  \n",
       "1      4 Bedroom  Theanmp       2600   5.0      3.0  120.00  \n",
       "2          3 BHK      NaN       1440   2.0      3.0   62.00  \n",
       "3          3 BHK  Soiewre       1521   3.0      1.0   95.00  \n",
       "4          2 BHK      NaN       1200   2.0      1.0   51.00  \n",
       "...          ...      ...        ...   ...      ...     ...  \n",
       "13315  5 Bedroom  ArsiaEx       3453   4.0      0.0  231.00  \n",
       "13316      4 BHK      NaN       3600   5.0      NaN  400.00  \n",
       "13317      2 BHK  Mahla T       1141   2.0      1.0   60.00  \n",
       "13318      4 BHK  SollyCl       4689   4.0      1.0  488.00  \n",
       "13319      1 BHK      NaN        550   1.0      1.0   17.00  \n",
       "\n",
       "[13320 rows x 9 columns]"
      ]
     },
     "execution_count": 467,
     "metadata": {},
     "output_type": "execute_result"
    }
   ],
   "source": [
    "data=pd.read_csv('bangrhousedata/Bengaluru_House_Data.csv')\n",
    "data"
   ]
  },
  {
   "cell_type": "markdown",
   "id": "66825422",
   "metadata": {},
   "source": [
    "###### some insights"
   ]
  },
  {
   "cell_type": "code",
   "execution_count": 468,
   "id": "7f58e96c",
   "metadata": {},
   "outputs": [
    {
     "data": {
      "text/html": [
       "<div>\n",
       "<style scoped>\n",
       "    .dataframe tbody tr th:only-of-type {\n",
       "        vertical-align: middle;\n",
       "    }\n",
       "\n",
       "    .dataframe tbody tr th {\n",
       "        vertical-align: top;\n",
       "    }\n",
       "\n",
       "    .dataframe thead th {\n",
       "        text-align: right;\n",
       "    }\n",
       "</style>\n",
       "<table border=\"1\" class=\"dataframe\">\n",
       "  <thead>\n",
       "    <tr style=\"text-align: right;\">\n",
       "      <th></th>\n",
       "      <th>bath</th>\n",
       "      <th>balcony</th>\n",
       "      <th>price</th>\n",
       "    </tr>\n",
       "  </thead>\n",
       "  <tbody>\n",
       "    <tr>\n",
       "      <th>count</th>\n",
       "      <td>13247.000000</td>\n",
       "      <td>12711.000000</td>\n",
       "      <td>13320.000000</td>\n",
       "    </tr>\n",
       "    <tr>\n",
       "      <th>mean</th>\n",
       "      <td>2.692610</td>\n",
       "      <td>1.584376</td>\n",
       "      <td>112.565627</td>\n",
       "    </tr>\n",
       "    <tr>\n",
       "      <th>std</th>\n",
       "      <td>1.341458</td>\n",
       "      <td>0.817263</td>\n",
       "      <td>148.971674</td>\n",
       "    </tr>\n",
       "    <tr>\n",
       "      <th>min</th>\n",
       "      <td>1.000000</td>\n",
       "      <td>0.000000</td>\n",
       "      <td>8.000000</td>\n",
       "    </tr>\n",
       "    <tr>\n",
       "      <th>25%</th>\n",
       "      <td>2.000000</td>\n",
       "      <td>1.000000</td>\n",
       "      <td>50.000000</td>\n",
       "    </tr>\n",
       "    <tr>\n",
       "      <th>50%</th>\n",
       "      <td>2.000000</td>\n",
       "      <td>2.000000</td>\n",
       "      <td>72.000000</td>\n",
       "    </tr>\n",
       "    <tr>\n",
       "      <th>75%</th>\n",
       "      <td>3.000000</td>\n",
       "      <td>2.000000</td>\n",
       "      <td>120.000000</td>\n",
       "    </tr>\n",
       "    <tr>\n",
       "      <th>max</th>\n",
       "      <td>40.000000</td>\n",
       "      <td>3.000000</td>\n",
       "      <td>3600.000000</td>\n",
       "    </tr>\n",
       "  </tbody>\n",
       "</table>\n",
       "</div>"
      ],
      "text/plain": [
       "               bath       balcony         price\n",
       "count  13247.000000  12711.000000  13320.000000\n",
       "mean       2.692610      1.584376    112.565627\n",
       "std        1.341458      0.817263    148.971674\n",
       "min        1.000000      0.000000      8.000000\n",
       "25%        2.000000      1.000000     50.000000\n",
       "50%        2.000000      2.000000     72.000000\n",
       "75%        3.000000      2.000000    120.000000\n",
       "max       40.000000      3.000000   3600.000000"
      ]
     },
     "execution_count": 468,
     "metadata": {},
     "output_type": "execute_result"
    }
   ],
   "source": [
    "data.describe()"
   ]
  },
  {
   "cell_type": "markdown",
   "id": "fa7a12b0",
   "metadata": {},
   "source": [
    "## Data cleaning and Feature Engineering \n"
   ]
  },
  {
   "cell_type": "markdown",
   "id": "00ed5865",
   "metadata": {},
   "source": [
    "###### checking for null values "
   ]
  },
  {
   "cell_type": "code",
   "execution_count": 469,
   "id": "90ada30c",
   "metadata": {},
   "outputs": [
    {
     "data": {
      "text/plain": [
       "area_type          0\n",
       "availability       0\n",
       "location           1\n",
       "size              16\n",
       "society         5502\n",
       "total_sqft         0\n",
       "bath              73\n",
       "balcony          609\n",
       "price              0\n",
       "dtype: int64"
      ]
     },
     "execution_count": 469,
     "metadata": {},
     "output_type": "execute_result"
    }
   ],
   "source": [
    "data.isnull().sum()"
   ]
  },
  {
   "cell_type": "markdown",
   "id": "ffd59443",
   "metadata": {},
   "source": [
    "##### there is more null values in 'society' column so, drop that is good"
   ]
  },
  {
   "cell_type": "markdown",
   "id": "717a8b5f",
   "metadata": {},
   "source": [
    "###### And also dropping the columns that is not make any differents the data and the prediction"
   ]
  },
  {
   "cell_type": "code",
   "execution_count": 470,
   "id": "143bdd19",
   "metadata": {},
   "outputs": [
    {
     "data": {
      "text/html": [
       "<div>\n",
       "<style scoped>\n",
       "    .dataframe tbody tr th:only-of-type {\n",
       "        vertical-align: middle;\n",
       "    }\n",
       "\n",
       "    .dataframe tbody tr th {\n",
       "        vertical-align: top;\n",
       "    }\n",
       "\n",
       "    .dataframe thead th {\n",
       "        text-align: right;\n",
       "    }\n",
       "</style>\n",
       "<table border=\"1\" class=\"dataframe\">\n",
       "  <thead>\n",
       "    <tr style=\"text-align: right;\">\n",
       "      <th></th>\n",
       "      <th>area_type</th>\n",
       "      <th>location</th>\n",
       "      <th>size</th>\n",
       "      <th>total_sqft</th>\n",
       "      <th>bath</th>\n",
       "      <th>price</th>\n",
       "    </tr>\n",
       "  </thead>\n",
       "  <tbody>\n",
       "    <tr>\n",
       "      <th>0</th>\n",
       "      <td>Super built-up  Area</td>\n",
       "      <td>Electronic City Phase II</td>\n",
       "      <td>2 BHK</td>\n",
       "      <td>1056</td>\n",
       "      <td>2.0</td>\n",
       "      <td>39.07</td>\n",
       "    </tr>\n",
       "    <tr>\n",
       "      <th>1</th>\n",
       "      <td>Plot  Area</td>\n",
       "      <td>Chikka Tirupathi</td>\n",
       "      <td>4 Bedroom</td>\n",
       "      <td>2600</td>\n",
       "      <td>5.0</td>\n",
       "      <td>120.00</td>\n",
       "    </tr>\n",
       "    <tr>\n",
       "      <th>2</th>\n",
       "      <td>Built-up  Area</td>\n",
       "      <td>Uttarahalli</td>\n",
       "      <td>3 BHK</td>\n",
       "      <td>1440</td>\n",
       "      <td>2.0</td>\n",
       "      <td>62.00</td>\n",
       "    </tr>\n",
       "    <tr>\n",
       "      <th>3</th>\n",
       "      <td>Super built-up  Area</td>\n",
       "      <td>Lingadheeranahalli</td>\n",
       "      <td>3 BHK</td>\n",
       "      <td>1521</td>\n",
       "      <td>3.0</td>\n",
       "      <td>95.00</td>\n",
       "    </tr>\n",
       "    <tr>\n",
       "      <th>4</th>\n",
       "      <td>Super built-up  Area</td>\n",
       "      <td>Kothanur</td>\n",
       "      <td>2 BHK</td>\n",
       "      <td>1200</td>\n",
       "      <td>2.0</td>\n",
       "      <td>51.00</td>\n",
       "    </tr>\n",
       "    <tr>\n",
       "      <th>...</th>\n",
       "      <td>...</td>\n",
       "      <td>...</td>\n",
       "      <td>...</td>\n",
       "      <td>...</td>\n",
       "      <td>...</td>\n",
       "      <td>...</td>\n",
       "    </tr>\n",
       "    <tr>\n",
       "      <th>13315</th>\n",
       "      <td>Built-up  Area</td>\n",
       "      <td>Whitefield</td>\n",
       "      <td>5 Bedroom</td>\n",
       "      <td>3453</td>\n",
       "      <td>4.0</td>\n",
       "      <td>231.00</td>\n",
       "    </tr>\n",
       "    <tr>\n",
       "      <th>13316</th>\n",
       "      <td>Super built-up  Area</td>\n",
       "      <td>Richards Town</td>\n",
       "      <td>4 BHK</td>\n",
       "      <td>3600</td>\n",
       "      <td>5.0</td>\n",
       "      <td>400.00</td>\n",
       "    </tr>\n",
       "    <tr>\n",
       "      <th>13317</th>\n",
       "      <td>Built-up  Area</td>\n",
       "      <td>Raja Rajeshwari Nagar</td>\n",
       "      <td>2 BHK</td>\n",
       "      <td>1141</td>\n",
       "      <td>2.0</td>\n",
       "      <td>60.00</td>\n",
       "    </tr>\n",
       "    <tr>\n",
       "      <th>13318</th>\n",
       "      <td>Super built-up  Area</td>\n",
       "      <td>Padmanabhanagar</td>\n",
       "      <td>4 BHK</td>\n",
       "      <td>4689</td>\n",
       "      <td>4.0</td>\n",
       "      <td>488.00</td>\n",
       "    </tr>\n",
       "    <tr>\n",
       "      <th>13319</th>\n",
       "      <td>Super built-up  Area</td>\n",
       "      <td>Doddathoguru</td>\n",
       "      <td>1 BHK</td>\n",
       "      <td>550</td>\n",
       "      <td>1.0</td>\n",
       "      <td>17.00</td>\n",
       "    </tr>\n",
       "  </tbody>\n",
       "</table>\n",
       "<p>13320 rows × 6 columns</p>\n",
       "</div>"
      ],
      "text/plain": [
       "                  area_type                  location       size total_sqft  \\\n",
       "0      Super built-up  Area  Electronic City Phase II      2 BHK       1056   \n",
       "1                Plot  Area          Chikka Tirupathi  4 Bedroom       2600   \n",
       "2            Built-up  Area               Uttarahalli      3 BHK       1440   \n",
       "3      Super built-up  Area        Lingadheeranahalli      3 BHK       1521   \n",
       "4      Super built-up  Area                  Kothanur      2 BHK       1200   \n",
       "...                     ...                       ...        ...        ...   \n",
       "13315        Built-up  Area                Whitefield  5 Bedroom       3453   \n",
       "13316  Super built-up  Area             Richards Town      4 BHK       3600   \n",
       "13317        Built-up  Area     Raja Rajeshwari Nagar      2 BHK       1141   \n",
       "13318  Super built-up  Area           Padmanabhanagar      4 BHK       4689   \n",
       "13319  Super built-up  Area              Doddathoguru      1 BHK        550   \n",
       "\n",
       "       bath   price  \n",
       "0       2.0   39.07  \n",
       "1       5.0  120.00  \n",
       "2       2.0   62.00  \n",
       "3       3.0   95.00  \n",
       "4       2.0   51.00  \n",
       "...     ...     ...  \n",
       "13315   4.0  231.00  \n",
       "13316   5.0  400.00  \n",
       "13317   2.0   60.00  \n",
       "13318   4.0  488.00  \n",
       "13319   1.0   17.00  \n",
       "\n",
       "[13320 rows x 6 columns]"
      ]
     },
     "execution_count": 470,
     "metadata": {},
     "output_type": "execute_result"
    }
   ],
   "source": [
    "data=data.drop(columns=['availability','balcony','society'],axis=1) \n",
    "data"
   ]
  },
  {
   "cell_type": "markdown",
   "id": "70b3353e",
   "metadata": {},
   "source": [
    "###### Since the location column is important so fill that null value is good to do."
   ]
  },
  {
   "cell_type": "code",
   "execution_count": 471,
   "id": "8d9f1bf9",
   "metadata": {
    "scrolled": true
   },
   "outputs": [
    {
     "data": {
      "text/plain": [
       "Whitefield                        540\n",
       "Sarjapur  Road                    399\n",
       "Electronic City                   302\n",
       "Kanakpura Road                    273\n",
       "Thanisandra                       234\n",
       "                                 ... \n",
       "Bapuji Layout                       1\n",
       "1st Stage Radha Krishna Layout      1\n",
       "BEML Layout 5th stage               1\n",
       "singapura paradise                  1\n",
       "Abshot Layout                       1\n",
       "Name: location, Length: 1305, dtype: int64"
      ]
     },
     "execution_count": 471,
     "metadata": {},
     "output_type": "execute_result"
    }
   ],
   "source": [
    "data['location'].value_counts()"
   ]
  },
  {
   "cell_type": "markdown",
   "id": "3e6456c7",
   "metadata": {},
   "source": [
    "###### Now the 'whitefield' has more in the location so filling the null value with it doesn't make any worse in the data"
   ]
  },
  {
   "cell_type": "code",
   "execution_count": 472,
   "id": "1c36b814",
   "metadata": {},
   "outputs": [],
   "source": [
    "data['location']=data.location.fillna('Whitefield')"
   ]
  },
  {
   "cell_type": "markdown",
   "id": "48a2f01c",
   "metadata": {},
   "source": [
    "###### Here the size means the BHK values also has some null so filling that with the more number of value present in it \"2 BHK\"."
   ]
  },
  {
   "cell_type": "code",
   "execution_count": 473,
   "id": "2c4cc649",
   "metadata": {},
   "outputs": [
    {
     "data": {
      "text/plain": [
       "2 BHK         5199\n",
       "3 BHK         4310\n",
       "4 Bedroom      826\n",
       "4 BHK          591\n",
       "3 Bedroom      547\n",
       "1 BHK          538\n",
       "2 Bedroom      329\n",
       "5 Bedroom      297\n",
       "6 Bedroom      191\n",
       "1 Bedroom      105\n",
       "8 Bedroom       84\n",
       "7 Bedroom       83\n",
       "5 BHK           59\n",
       "9 Bedroom       46\n",
       "6 BHK           30\n",
       "7 BHK           17\n",
       "1 RK            13\n",
       "10 Bedroom      12\n",
       "9 BHK            8\n",
       "8 BHK            5\n",
       "11 BHK           2\n",
       "11 Bedroom       2\n",
       "10 BHK           2\n",
       "14 BHK           1\n",
       "13 BHK           1\n",
       "12 Bedroom       1\n",
       "27 BHK           1\n",
       "43 Bedroom       1\n",
       "16 BHK           1\n",
       "19 BHK           1\n",
       "18 Bedroom       1\n",
       "Name: size, dtype: int64"
      ]
     },
     "execution_count": 473,
     "metadata": {},
     "output_type": "execute_result"
    }
   ],
   "source": [
    "data['size'].value_counts()"
   ]
  },
  {
   "cell_type": "markdown",
   "id": "a3a59024",
   "metadata": {},
   "source": [
    "###### filling with 2 bhk"
   ]
  },
  {
   "cell_type": "code",
   "execution_count": 474,
   "id": "b23844f3",
   "metadata": {},
   "outputs": [],
   "source": [
    "data['size']=data['size'].fillna('2 BHK')"
   ]
  },
  {
   "cell_type": "markdown",
   "id": "e5dbd771",
   "metadata": {},
   "source": [
    "###### Now the column bath has also some null values \n",
    "##### filling that with the meadian value"
   ]
  },
  {
   "cell_type": "code",
   "execution_count": 475,
   "id": "0dec5977",
   "metadata": {},
   "outputs": [],
   "source": [
    "data['bath']=data['bath'].fillna(data['bath'].median())"
   ]
  },
  {
   "cell_type": "markdown",
   "id": "0fb8bfea",
   "metadata": {},
   "source": [
    "###### So the data has no null values"
   ]
  },
  {
   "cell_type": "code",
   "execution_count": 476,
   "id": "a8dedc49",
   "metadata": {
    "scrolled": true
   },
   "outputs": [
    {
     "data": {
      "text/plain": [
       "area_type     0\n",
       "location      0\n",
       "size          0\n",
       "total_sqft    0\n",
       "bath          0\n",
       "price         0\n",
       "dtype: int64"
      ]
     },
     "execution_count": 476,
     "metadata": {},
     "output_type": "execute_result"
    }
   ],
   "source": [
    "data.isnull().sum()"
   ]
  },
  {
   "cell_type": "markdown",
   "id": "64ceb488",
   "metadata": {},
   "source": [
    "#### The column 'size' has both the Int and also the Str"
   ]
  },
  {
   "cell_type": "markdown",
   "id": "c0e15875",
   "metadata": {},
   "source": [
    "###### to remove that only str value - below code"
   ]
  },
  {
   "cell_type": "code",
   "execution_count": 477,
   "id": "ca1d9a57",
   "metadata": {},
   "outputs": [],
   "source": [
    "data['bhk']=data['size'].str.split().str.get(0).astype(int)"
   ]
  },
  {
   "cell_type": "markdown",
   "id": "b19a2129",
   "metadata": {},
   "source": [
    "###### now the str is remove and the column name also changed for further ease of doing the process"
   ]
  },
  {
   "cell_type": "code",
   "execution_count": 478,
   "id": "2f892e48",
   "metadata": {},
   "outputs": [],
   "source": [
    "data=data.drop('size',axis=1)"
   ]
  },
  {
   "cell_type": "code",
   "execution_count": 479,
   "id": "2cf73de9",
   "metadata": {},
   "outputs": [
    {
     "data": {
      "text/html": [
       "<div>\n",
       "<style scoped>\n",
       "    .dataframe tbody tr th:only-of-type {\n",
       "        vertical-align: middle;\n",
       "    }\n",
       "\n",
       "    .dataframe tbody tr th {\n",
       "        vertical-align: top;\n",
       "    }\n",
       "\n",
       "    .dataframe thead th {\n",
       "        text-align: right;\n",
       "    }\n",
       "</style>\n",
       "<table border=\"1\" class=\"dataframe\">\n",
       "  <thead>\n",
       "    <tr style=\"text-align: right;\">\n",
       "      <th></th>\n",
       "      <th>area_type</th>\n",
       "      <th>location</th>\n",
       "      <th>total_sqft</th>\n",
       "      <th>bath</th>\n",
       "      <th>price</th>\n",
       "      <th>bhk</th>\n",
       "    </tr>\n",
       "  </thead>\n",
       "  <tbody>\n",
       "    <tr>\n",
       "      <th>0</th>\n",
       "      <td>Super built-up  Area</td>\n",
       "      <td>Electronic City Phase II</td>\n",
       "      <td>1056</td>\n",
       "      <td>2.0</td>\n",
       "      <td>39.07</td>\n",
       "      <td>2</td>\n",
       "    </tr>\n",
       "    <tr>\n",
       "      <th>1</th>\n",
       "      <td>Plot  Area</td>\n",
       "      <td>Chikka Tirupathi</td>\n",
       "      <td>2600</td>\n",
       "      <td>5.0</td>\n",
       "      <td>120.00</td>\n",
       "      <td>4</td>\n",
       "    </tr>\n",
       "    <tr>\n",
       "      <th>2</th>\n",
       "      <td>Built-up  Area</td>\n",
       "      <td>Uttarahalli</td>\n",
       "      <td>1440</td>\n",
       "      <td>2.0</td>\n",
       "      <td>62.00</td>\n",
       "      <td>3</td>\n",
       "    </tr>\n",
       "    <tr>\n",
       "      <th>3</th>\n",
       "      <td>Super built-up  Area</td>\n",
       "      <td>Lingadheeranahalli</td>\n",
       "      <td>1521</td>\n",
       "      <td>3.0</td>\n",
       "      <td>95.00</td>\n",
       "      <td>3</td>\n",
       "    </tr>\n",
       "    <tr>\n",
       "      <th>4</th>\n",
       "      <td>Super built-up  Area</td>\n",
       "      <td>Kothanur</td>\n",
       "      <td>1200</td>\n",
       "      <td>2.0</td>\n",
       "      <td>51.00</td>\n",
       "      <td>2</td>\n",
       "    </tr>\n",
       "  </tbody>\n",
       "</table>\n",
       "</div>"
      ],
      "text/plain": [
       "              area_type                  location total_sqft  bath   price  \\\n",
       "0  Super built-up  Area  Electronic City Phase II       1056   2.0   39.07   \n",
       "1            Plot  Area          Chikka Tirupathi       2600   5.0  120.00   \n",
       "2        Built-up  Area               Uttarahalli       1440   2.0   62.00   \n",
       "3  Super built-up  Area        Lingadheeranahalli       1521   3.0   95.00   \n",
       "4  Super built-up  Area                  Kothanur       1200   2.0   51.00   \n",
       "\n",
       "   bhk  \n",
       "0    2  \n",
       "1    4  \n",
       "2    3  \n",
       "3    3  \n",
       "4    2  "
      ]
     },
     "execution_count": 479,
     "metadata": {},
     "output_type": "execute_result"
    }
   ],
   "source": [
    "data.head()"
   ]
  },
  {
   "cell_type": "markdown",
   "id": "d79c8fd6",
   "metadata": {},
   "source": [
    "##### When we see the unique values of the column 'total sqft' it has some values in range "
   ]
  },
  {
   "cell_type": "code",
   "execution_count": 480,
   "id": "d7d3c515",
   "metadata": {
    "scrolled": false
   },
   "outputs": [
    {
     "data": {
      "text/plain": [
       "array(['1056', '2600', '1440', ..., '1133 - 1384', '774', '4689'],\n",
       "      dtype=object)"
      ]
     },
     "execution_count": 480,
     "metadata": {},
     "output_type": "execute_result"
    }
   ],
   "source": [
    "data['total_sqft'].unique()"
   ]
  },
  {
   "cell_type": "markdown",
   "id": "9fa3dad9",
   "metadata": {},
   "source": [
    "###### To convert that only range values -below code"
   ]
  },
  {
   "cell_type": "code",
   "execution_count": 481,
   "id": "18be2166",
   "metadata": {},
   "outputs": [],
   "source": [
    "def Rangeconverter(x):\n",
    "    \n",
    "    temp= x.split('-')\n",
    "    if len(temp)==2:\n",
    "        return (float(temp[0])+ float(temp[1]))/2\n",
    "    try:\n",
    "        return float(x)\n",
    "    except:\n",
    "        return None"
   ]
  },
  {
   "cell_type": "code",
   "execution_count": 482,
   "id": "f161555c",
   "metadata": {},
   "outputs": [],
   "source": [
    "data['total_sqft']=data['total_sqft'].apply(Rangeconverter)"
   ]
  },
  {
   "cell_type": "code",
   "execution_count": 483,
   "id": "11676ff2",
   "metadata": {
    "scrolled": true
   },
   "outputs": [
    {
     "data": {
      "text/plain": [
       "46"
      ]
     },
     "execution_count": 483,
     "metadata": {},
     "output_type": "execute_result"
    }
   ],
   "source": [
    "data['total_sqft'].isnull().sum()"
   ]
  },
  {
   "cell_type": "code",
   "execution_count": 484,
   "id": "a1a85336",
   "metadata": {},
   "outputs": [
    {
     "data": {
      "text/html": [
       "<div>\n",
       "<style scoped>\n",
       "    .dataframe tbody tr th:only-of-type {\n",
       "        vertical-align: middle;\n",
       "    }\n",
       "\n",
       "    .dataframe tbody tr th {\n",
       "        vertical-align: top;\n",
       "    }\n",
       "\n",
       "    .dataframe thead th {\n",
       "        text-align: right;\n",
       "    }\n",
       "</style>\n",
       "<table border=\"1\" class=\"dataframe\">\n",
       "  <thead>\n",
       "    <tr style=\"text-align: right;\">\n",
       "      <th></th>\n",
       "      <th>total_sqft</th>\n",
       "      <th>bath</th>\n",
       "      <th>price</th>\n",
       "      <th>bhk</th>\n",
       "    </tr>\n",
       "  </thead>\n",
       "  <tbody>\n",
       "    <tr>\n",
       "      <th>count</th>\n",
       "      <td>13274.000000</td>\n",
       "      <td>13320.000000</td>\n",
       "      <td>13320.000000</td>\n",
       "      <td>13320.000000</td>\n",
       "    </tr>\n",
       "    <tr>\n",
       "      <th>mean</th>\n",
       "      <td>1559.626694</td>\n",
       "      <td>2.688814</td>\n",
       "      <td>112.565627</td>\n",
       "      <td>2.802778</td>\n",
       "    </tr>\n",
       "    <tr>\n",
       "      <th>std</th>\n",
       "      <td>1238.405258</td>\n",
       "      <td>1.338754</td>\n",
       "      <td>148.971674</td>\n",
       "      <td>1.294496</td>\n",
       "    </tr>\n",
       "    <tr>\n",
       "      <th>min</th>\n",
       "      <td>1.000000</td>\n",
       "      <td>1.000000</td>\n",
       "      <td>8.000000</td>\n",
       "      <td>1.000000</td>\n",
       "    </tr>\n",
       "    <tr>\n",
       "      <th>25%</th>\n",
       "      <td>1100.000000</td>\n",
       "      <td>2.000000</td>\n",
       "      <td>50.000000</td>\n",
       "      <td>2.000000</td>\n",
       "    </tr>\n",
       "    <tr>\n",
       "      <th>50%</th>\n",
       "      <td>1276.000000</td>\n",
       "      <td>2.000000</td>\n",
       "      <td>72.000000</td>\n",
       "      <td>3.000000</td>\n",
       "    </tr>\n",
       "    <tr>\n",
       "      <th>75%</th>\n",
       "      <td>1680.000000</td>\n",
       "      <td>3.000000</td>\n",
       "      <td>120.000000</td>\n",
       "      <td>3.000000</td>\n",
       "    </tr>\n",
       "    <tr>\n",
       "      <th>max</th>\n",
       "      <td>52272.000000</td>\n",
       "      <td>40.000000</td>\n",
       "      <td>3600.000000</td>\n",
       "      <td>43.000000</td>\n",
       "    </tr>\n",
       "  </tbody>\n",
       "</table>\n",
       "</div>"
      ],
      "text/plain": [
       "         total_sqft          bath         price           bhk\n",
       "count  13274.000000  13320.000000  13320.000000  13320.000000\n",
       "mean    1559.626694      2.688814    112.565627      2.802778\n",
       "std     1238.405258      1.338754    148.971674      1.294496\n",
       "min        1.000000      1.000000      8.000000      1.000000\n",
       "25%     1100.000000      2.000000     50.000000      2.000000\n",
       "50%     1276.000000      2.000000     72.000000      3.000000\n",
       "75%     1680.000000      3.000000    120.000000      3.000000\n",
       "max    52272.000000     40.000000   3600.000000     43.000000"
      ]
     },
     "execution_count": 484,
     "metadata": {},
     "output_type": "execute_result"
    }
   ],
   "source": [
    "data.describe()"
   ]
  },
  {
   "cell_type": "code",
   "execution_count": 485,
   "id": "de581b7f",
   "metadata": {},
   "outputs": [],
   "source": [
    "data['total_sqft']=data['total_sqft'].fillna(data['total_sqft'].median())"
   ]
  },
  {
   "cell_type": "code",
   "execution_count": 486,
   "id": "430d6cc5",
   "metadata": {},
   "outputs": [
    {
     "data": {
      "text/plain": [
       "area_type     0\n",
       "location      0\n",
       "total_sqft    0\n",
       "bath          0\n",
       "price         0\n",
       "bhk           0\n",
       "dtype: int64"
      ]
     },
     "execution_count": 486,
     "metadata": {},
     "output_type": "execute_result"
    }
   ],
   "source": [
    "data.isnull().sum()"
   ]
  },
  {
   "cell_type": "markdown",
   "id": "65906e2d",
   "metadata": {},
   "source": [
    "#### In location column some location have only present once. this will make the featues soar in numbers when we Encode the Catagorical features so need to get that values under the same name 'others'"
   ]
  },
  {
   "cell_type": "code",
   "execution_count": 487,
   "id": "b99f1d36",
   "metadata": {
    "scrolled": true
   },
   "outputs": [
    {
     "data": {
      "text/plain": [
       "Whitefield                        False\n",
       "Sarjapur  Road                    False\n",
       "Electronic City                   False\n",
       "Kanakpura Road                    False\n",
       "Thanisandra                       False\n",
       "                                  ...  \n",
       "Bapuji Layout                      True\n",
       "1st Stage Radha Krishna Layout     True\n",
       "BEML Layout 5th stage              True\n",
       "singapura paradise                 True\n",
       "Abshot Layout                      True\n",
       "Name: location, Length: 1305, dtype: bool"
      ]
     },
     "execution_count": 487,
     "metadata": {},
     "output_type": "execute_result"
    }
   ],
   "source": [
    "data_loc=data['location'].value_counts()<=10\n",
    "data_loc"
   ]
  },
  {
   "cell_type": "code",
   "execution_count": 488,
   "id": "1f0d13b8",
   "metadata": {},
   "outputs": [
    {
     "data": {
      "text/plain": [
       "Dairy Circle                      10\n",
       "Nagappa Reddy Layout              10\n",
       "Basapura                          10\n",
       "1st Block Koramangala             10\n",
       "Sector 1 HSR Layout               10\n",
       "                                  ..\n",
       "Bapuji Layout                      1\n",
       "1st Stage Radha Krishna Layout     1\n",
       "BEML Layout 5th stage              1\n",
       "singapura paradise                 1\n",
       "Abshot Layout                      1\n",
       "Name: location, Length: 1053, dtype: int64"
      ]
     },
     "execution_count": 488,
     "metadata": {},
     "output_type": "execute_result"
    }
   ],
   "source": [
    "data['location']= data['location'].apply(lambda x: x.strip())\n",
    "location_count= data['location'].value_counts()\n",
    "location_count_less_10 = location_count[location_count<=10]\n",
    "location_count_less_10"
   ]
  },
  {
   "cell_type": "code",
   "execution_count": 489,
   "id": "97f09b92",
   "metadata": {},
   "outputs": [],
   "source": [
    "data['location']=data['location'].apply(lambda x : 'other' if x in location_count_less_10 else x)"
   ]
  },
  {
   "cell_type": "code",
   "execution_count": 490,
   "id": "35798b13",
   "metadata": {},
   "outputs": [
    {
     "data": {
      "text/plain": [
       "other                 2885\n",
       "Whitefield             542\n",
       "Sarjapur  Road         399\n",
       "Electronic City        304\n",
       "Kanakpura Road         273\n",
       "                      ... \n",
       "Nehru Nagar             11\n",
       "Banjara Layout          11\n",
       "LB Shastri Nagar        11\n",
       "Pattandur Agrahara      11\n",
       "Narayanapura            11\n",
       "Name: location, Length: 242, dtype: int64"
      ]
     },
     "execution_count": 490,
     "metadata": {},
     "output_type": "execute_result"
    }
   ],
   "source": [
    "data['location'].value_counts()"
   ]
  },
  {
   "cell_type": "code",
   "execution_count": 491,
   "id": "140349f4",
   "metadata": {},
   "outputs": [
    {
     "data": {
      "text/plain": [
       "(13320, 6)"
      ]
     },
     "execution_count": 491,
     "metadata": {},
     "output_type": "execute_result"
    }
   ],
   "source": [
    "data.shape"
   ]
  },
  {
   "cell_type": "code",
   "execution_count": 492,
   "id": "79abfe39",
   "metadata": {},
   "outputs": [
    {
     "data": {
      "text/html": [
       "<div>\n",
       "<style scoped>\n",
       "    .dataframe tbody tr th:only-of-type {\n",
       "        vertical-align: middle;\n",
       "    }\n",
       "\n",
       "    .dataframe tbody tr th {\n",
       "        vertical-align: top;\n",
       "    }\n",
       "\n",
       "    .dataframe thead th {\n",
       "        text-align: right;\n",
       "    }\n",
       "</style>\n",
       "<table border=\"1\" class=\"dataframe\">\n",
       "  <thead>\n",
       "    <tr style=\"text-align: right;\">\n",
       "      <th></th>\n",
       "      <th>area_type</th>\n",
       "      <th>location</th>\n",
       "      <th>total_sqft</th>\n",
       "      <th>bath</th>\n",
       "      <th>price</th>\n",
       "      <th>bhk</th>\n",
       "    </tr>\n",
       "  </thead>\n",
       "  <tbody>\n",
       "    <tr>\n",
       "      <th>0</th>\n",
       "      <td>Super built-up  Area</td>\n",
       "      <td>Electronic City Phase II</td>\n",
       "      <td>1056.0</td>\n",
       "      <td>2.0</td>\n",
       "      <td>39.07</td>\n",
       "      <td>2</td>\n",
       "    </tr>\n",
       "    <tr>\n",
       "      <th>1</th>\n",
       "      <td>Plot  Area</td>\n",
       "      <td>Chikka Tirupathi</td>\n",
       "      <td>2600.0</td>\n",
       "      <td>5.0</td>\n",
       "      <td>120.00</td>\n",
       "      <td>4</td>\n",
       "    </tr>\n",
       "    <tr>\n",
       "      <th>2</th>\n",
       "      <td>Built-up  Area</td>\n",
       "      <td>Uttarahalli</td>\n",
       "      <td>1440.0</td>\n",
       "      <td>2.0</td>\n",
       "      <td>62.00</td>\n",
       "      <td>3</td>\n",
       "    </tr>\n",
       "    <tr>\n",
       "      <th>3</th>\n",
       "      <td>Super built-up  Area</td>\n",
       "      <td>Lingadheeranahalli</td>\n",
       "      <td>1521.0</td>\n",
       "      <td>3.0</td>\n",
       "      <td>95.00</td>\n",
       "      <td>3</td>\n",
       "    </tr>\n",
       "    <tr>\n",
       "      <th>4</th>\n",
       "      <td>Super built-up  Area</td>\n",
       "      <td>Kothanur</td>\n",
       "      <td>1200.0</td>\n",
       "      <td>2.0</td>\n",
       "      <td>51.00</td>\n",
       "      <td>2</td>\n",
       "    </tr>\n",
       "    <tr>\n",
       "      <th>...</th>\n",
       "      <td>...</td>\n",
       "      <td>...</td>\n",
       "      <td>...</td>\n",
       "      <td>...</td>\n",
       "      <td>...</td>\n",
       "      <td>...</td>\n",
       "    </tr>\n",
       "    <tr>\n",
       "      <th>13315</th>\n",
       "      <td>Built-up  Area</td>\n",
       "      <td>Whitefield</td>\n",
       "      <td>3453.0</td>\n",
       "      <td>4.0</td>\n",
       "      <td>231.00</td>\n",
       "      <td>5</td>\n",
       "    </tr>\n",
       "    <tr>\n",
       "      <th>13316</th>\n",
       "      <td>Super built-up  Area</td>\n",
       "      <td>other</td>\n",
       "      <td>3600.0</td>\n",
       "      <td>5.0</td>\n",
       "      <td>400.00</td>\n",
       "      <td>4</td>\n",
       "    </tr>\n",
       "    <tr>\n",
       "      <th>13317</th>\n",
       "      <td>Built-up  Area</td>\n",
       "      <td>Raja Rajeshwari Nagar</td>\n",
       "      <td>1141.0</td>\n",
       "      <td>2.0</td>\n",
       "      <td>60.00</td>\n",
       "      <td>2</td>\n",
       "    </tr>\n",
       "    <tr>\n",
       "      <th>13318</th>\n",
       "      <td>Super built-up  Area</td>\n",
       "      <td>Padmanabhanagar</td>\n",
       "      <td>4689.0</td>\n",
       "      <td>4.0</td>\n",
       "      <td>488.00</td>\n",
       "      <td>4</td>\n",
       "    </tr>\n",
       "    <tr>\n",
       "      <th>13319</th>\n",
       "      <td>Super built-up  Area</td>\n",
       "      <td>Doddathoguru</td>\n",
       "      <td>550.0</td>\n",
       "      <td>1.0</td>\n",
       "      <td>17.00</td>\n",
       "      <td>1</td>\n",
       "    </tr>\n",
       "  </tbody>\n",
       "</table>\n",
       "<p>13320 rows × 6 columns</p>\n",
       "</div>"
      ],
      "text/plain": [
       "                  area_type                  location  total_sqft  bath  \\\n",
       "0      Super built-up  Area  Electronic City Phase II      1056.0   2.0   \n",
       "1                Plot  Area          Chikka Tirupathi      2600.0   5.0   \n",
       "2            Built-up  Area               Uttarahalli      1440.0   2.0   \n",
       "3      Super built-up  Area        Lingadheeranahalli      1521.0   3.0   \n",
       "4      Super built-up  Area                  Kothanur      1200.0   2.0   \n",
       "...                     ...                       ...         ...   ...   \n",
       "13315        Built-up  Area                Whitefield      3453.0   4.0   \n",
       "13316  Super built-up  Area                     other      3600.0   5.0   \n",
       "13317        Built-up  Area     Raja Rajeshwari Nagar      1141.0   2.0   \n",
       "13318  Super built-up  Area           Padmanabhanagar      4689.0   4.0   \n",
       "13319  Super built-up  Area              Doddathoguru       550.0   1.0   \n",
       "\n",
       "        price  bhk  \n",
       "0       39.07    2  \n",
       "1      120.00    4  \n",
       "2       62.00    3  \n",
       "3       95.00    3  \n",
       "4       51.00    2  \n",
       "...       ...  ...  \n",
       "13315  231.00    5  \n",
       "13316  400.00    4  \n",
       "13317   60.00    2  \n",
       "13318  488.00    4  \n",
       "13319   17.00    1  \n",
       "\n",
       "[13320 rows x 6 columns]"
      ]
     },
     "execution_count": 492,
     "metadata": {},
     "output_type": "execute_result"
    }
   ],
   "source": [
    "data"
   ]
  },
  {
   "cell_type": "code",
   "execution_count": 493,
   "id": "8413af08",
   "metadata": {
    "scrolled": true
   },
   "outputs": [
    {
     "data": {
      "text/plain": [
       "(13320, 6)"
      ]
     },
     "execution_count": 493,
     "metadata": {},
     "output_type": "execute_result"
    }
   ],
   "source": [
    "data.shape"
   ]
  },
  {
   "cell_type": "code",
   "execution_count": 494,
   "id": "11bd942c",
   "metadata": {},
   "outputs": [],
   "source": [
    "#data['total_sqft-bhk']=data.total_sqft*data.bhk\n",
    "#data['bath-total_sqft']=data.bath*data.total_sqft\n",
    "#data['bhk-bath']=data.bhk*data.bath\n",
    "#from sklearn.preprocessing import OneHotEncoder, StandardScaler, PolynomialFeatures\n",
    "#poly=PolynomialFeatures(2)\n",
    "#data1=poly.fit_transform(data)\n"
   ]
  },
  {
   "cell_type": "code",
   "execution_count": 495,
   "id": "bb7da072",
   "metadata": {
    "scrolled": true
   },
   "outputs": [
    {
     "data": {
      "text/html": [
       "<div>\n",
       "<style scoped>\n",
       "    .dataframe tbody tr th:only-of-type {\n",
       "        vertical-align: middle;\n",
       "    }\n",
       "\n",
       "    .dataframe tbody tr th {\n",
       "        vertical-align: top;\n",
       "    }\n",
       "\n",
       "    .dataframe thead th {\n",
       "        text-align: right;\n",
       "    }\n",
       "</style>\n",
       "<table border=\"1\" class=\"dataframe\">\n",
       "  <thead>\n",
       "    <tr style=\"text-align: right;\">\n",
       "      <th></th>\n",
       "      <th>area_type</th>\n",
       "      <th>location</th>\n",
       "      <th>total_sqft</th>\n",
       "      <th>bath</th>\n",
       "      <th>price</th>\n",
       "      <th>bhk</th>\n",
       "    </tr>\n",
       "  </thead>\n",
       "  <tbody>\n",
       "    <tr>\n",
       "      <th>0</th>\n",
       "      <td>Super built-up  Area</td>\n",
       "      <td>Electronic City Phase II</td>\n",
       "      <td>1056.0</td>\n",
       "      <td>2.0</td>\n",
       "      <td>39.07</td>\n",
       "      <td>2</td>\n",
       "    </tr>\n",
       "    <tr>\n",
       "      <th>1</th>\n",
       "      <td>Plot  Area</td>\n",
       "      <td>Chikka Tirupathi</td>\n",
       "      <td>2600.0</td>\n",
       "      <td>5.0</td>\n",
       "      <td>120.00</td>\n",
       "      <td>4</td>\n",
       "    </tr>\n",
       "    <tr>\n",
       "      <th>2</th>\n",
       "      <td>Built-up  Area</td>\n",
       "      <td>Uttarahalli</td>\n",
       "      <td>1440.0</td>\n",
       "      <td>2.0</td>\n",
       "      <td>62.00</td>\n",
       "      <td>3</td>\n",
       "    </tr>\n",
       "    <tr>\n",
       "      <th>3</th>\n",
       "      <td>Super built-up  Area</td>\n",
       "      <td>Lingadheeranahalli</td>\n",
       "      <td>1521.0</td>\n",
       "      <td>3.0</td>\n",
       "      <td>95.00</td>\n",
       "      <td>3</td>\n",
       "    </tr>\n",
       "    <tr>\n",
       "      <th>4</th>\n",
       "      <td>Super built-up  Area</td>\n",
       "      <td>Kothanur</td>\n",
       "      <td>1200.0</td>\n",
       "      <td>2.0</td>\n",
       "      <td>51.00</td>\n",
       "      <td>2</td>\n",
       "    </tr>\n",
       "    <tr>\n",
       "      <th>...</th>\n",
       "      <td>...</td>\n",
       "      <td>...</td>\n",
       "      <td>...</td>\n",
       "      <td>...</td>\n",
       "      <td>...</td>\n",
       "      <td>...</td>\n",
       "    </tr>\n",
       "    <tr>\n",
       "      <th>13315</th>\n",
       "      <td>Built-up  Area</td>\n",
       "      <td>Whitefield</td>\n",
       "      <td>3453.0</td>\n",
       "      <td>4.0</td>\n",
       "      <td>231.00</td>\n",
       "      <td>5</td>\n",
       "    </tr>\n",
       "    <tr>\n",
       "      <th>13316</th>\n",
       "      <td>Super built-up  Area</td>\n",
       "      <td>other</td>\n",
       "      <td>3600.0</td>\n",
       "      <td>5.0</td>\n",
       "      <td>400.00</td>\n",
       "      <td>4</td>\n",
       "    </tr>\n",
       "    <tr>\n",
       "      <th>13317</th>\n",
       "      <td>Built-up  Area</td>\n",
       "      <td>Raja Rajeshwari Nagar</td>\n",
       "      <td>1141.0</td>\n",
       "      <td>2.0</td>\n",
       "      <td>60.00</td>\n",
       "      <td>2</td>\n",
       "    </tr>\n",
       "    <tr>\n",
       "      <th>13318</th>\n",
       "      <td>Super built-up  Area</td>\n",
       "      <td>Padmanabhanagar</td>\n",
       "      <td>4689.0</td>\n",
       "      <td>4.0</td>\n",
       "      <td>488.00</td>\n",
       "      <td>4</td>\n",
       "    </tr>\n",
       "    <tr>\n",
       "      <th>13319</th>\n",
       "      <td>Super built-up  Area</td>\n",
       "      <td>Doddathoguru</td>\n",
       "      <td>550.0</td>\n",
       "      <td>1.0</td>\n",
       "      <td>17.00</td>\n",
       "      <td>1</td>\n",
       "    </tr>\n",
       "  </tbody>\n",
       "</table>\n",
       "<p>13320 rows × 6 columns</p>\n",
       "</div>"
      ],
      "text/plain": [
       "                  area_type                  location  total_sqft  bath  \\\n",
       "0      Super built-up  Area  Electronic City Phase II      1056.0   2.0   \n",
       "1                Plot  Area          Chikka Tirupathi      2600.0   5.0   \n",
       "2            Built-up  Area               Uttarahalli      1440.0   2.0   \n",
       "3      Super built-up  Area        Lingadheeranahalli      1521.0   3.0   \n",
       "4      Super built-up  Area                  Kothanur      1200.0   2.0   \n",
       "...                     ...                       ...         ...   ...   \n",
       "13315        Built-up  Area                Whitefield      3453.0   4.0   \n",
       "13316  Super built-up  Area                     other      3600.0   5.0   \n",
       "13317        Built-up  Area     Raja Rajeshwari Nagar      1141.0   2.0   \n",
       "13318  Super built-up  Area           Padmanabhanagar      4689.0   4.0   \n",
       "13319  Super built-up  Area              Doddathoguru       550.0   1.0   \n",
       "\n",
       "        price  bhk  \n",
       "0       39.07    2  \n",
       "1      120.00    4  \n",
       "2       62.00    3  \n",
       "3       95.00    3  \n",
       "4       51.00    2  \n",
       "...       ...  ...  \n",
       "13315  231.00    5  \n",
       "13316  400.00    4  \n",
       "13317   60.00    2  \n",
       "13318  488.00    4  \n",
       "13319   17.00    1  \n",
       "\n",
       "[13320 rows x 6 columns]"
      ]
     },
     "execution_count": 495,
     "metadata": {},
     "output_type": "execute_result"
    }
   ],
   "source": [
    "data"
   ]
  },
  {
   "cell_type": "code",
   "execution_count": 496,
   "id": "e803f515",
   "metadata": {
    "scrolled": true
   },
   "outputs": [],
   "source": [
    "data['price_per_sqrft']=data.price/data.total_sqft"
   ]
  },
  {
   "cell_type": "code",
   "execution_count": 497,
   "id": "4fe124ff",
   "metadata": {},
   "outputs": [
    {
     "data": {
      "text/html": [
       "<div>\n",
       "<style scoped>\n",
       "    .dataframe tbody tr th:only-of-type {\n",
       "        vertical-align: middle;\n",
       "    }\n",
       "\n",
       "    .dataframe tbody tr th {\n",
       "        vertical-align: top;\n",
       "    }\n",
       "\n",
       "    .dataframe thead th {\n",
       "        text-align: right;\n",
       "    }\n",
       "</style>\n",
       "<table border=\"1\" class=\"dataframe\">\n",
       "  <thead>\n",
       "    <tr style=\"text-align: right;\">\n",
       "      <th></th>\n",
       "      <th>area_type</th>\n",
       "      <th>location</th>\n",
       "      <th>total_sqft</th>\n",
       "      <th>bath</th>\n",
       "      <th>price</th>\n",
       "      <th>bhk</th>\n",
       "      <th>price_per_sqrft</th>\n",
       "    </tr>\n",
       "  </thead>\n",
       "  <tbody>\n",
       "    <tr>\n",
       "      <th>0</th>\n",
       "      <td>Super built-up  Area</td>\n",
       "      <td>Electronic City Phase II</td>\n",
       "      <td>1056.0</td>\n",
       "      <td>2.0</td>\n",
       "      <td>39.07</td>\n",
       "      <td>2</td>\n",
       "      <td>0.036998</td>\n",
       "    </tr>\n",
       "    <tr>\n",
       "      <th>1</th>\n",
       "      <td>Plot  Area</td>\n",
       "      <td>Chikka Tirupathi</td>\n",
       "      <td>2600.0</td>\n",
       "      <td>5.0</td>\n",
       "      <td>120.00</td>\n",
       "      <td>4</td>\n",
       "      <td>0.046154</td>\n",
       "    </tr>\n",
       "    <tr>\n",
       "      <th>2</th>\n",
       "      <td>Built-up  Area</td>\n",
       "      <td>Uttarahalli</td>\n",
       "      <td>1440.0</td>\n",
       "      <td>2.0</td>\n",
       "      <td>62.00</td>\n",
       "      <td>3</td>\n",
       "      <td>0.043056</td>\n",
       "    </tr>\n",
       "    <tr>\n",
       "      <th>3</th>\n",
       "      <td>Super built-up  Area</td>\n",
       "      <td>Lingadheeranahalli</td>\n",
       "      <td>1521.0</td>\n",
       "      <td>3.0</td>\n",
       "      <td>95.00</td>\n",
       "      <td>3</td>\n",
       "      <td>0.062459</td>\n",
       "    </tr>\n",
       "    <tr>\n",
       "      <th>4</th>\n",
       "      <td>Super built-up  Area</td>\n",
       "      <td>Kothanur</td>\n",
       "      <td>1200.0</td>\n",
       "      <td>2.0</td>\n",
       "      <td>51.00</td>\n",
       "      <td>2</td>\n",
       "      <td>0.042500</td>\n",
       "    </tr>\n",
       "    <tr>\n",
       "      <th>...</th>\n",
       "      <td>...</td>\n",
       "      <td>...</td>\n",
       "      <td>...</td>\n",
       "      <td>...</td>\n",
       "      <td>...</td>\n",
       "      <td>...</td>\n",
       "      <td>...</td>\n",
       "    </tr>\n",
       "    <tr>\n",
       "      <th>13315</th>\n",
       "      <td>Built-up  Area</td>\n",
       "      <td>Whitefield</td>\n",
       "      <td>3453.0</td>\n",
       "      <td>4.0</td>\n",
       "      <td>231.00</td>\n",
       "      <td>5</td>\n",
       "      <td>0.066898</td>\n",
       "    </tr>\n",
       "    <tr>\n",
       "      <th>13316</th>\n",
       "      <td>Super built-up  Area</td>\n",
       "      <td>other</td>\n",
       "      <td>3600.0</td>\n",
       "      <td>5.0</td>\n",
       "      <td>400.00</td>\n",
       "      <td>4</td>\n",
       "      <td>0.111111</td>\n",
       "    </tr>\n",
       "    <tr>\n",
       "      <th>13317</th>\n",
       "      <td>Built-up  Area</td>\n",
       "      <td>Raja Rajeshwari Nagar</td>\n",
       "      <td>1141.0</td>\n",
       "      <td>2.0</td>\n",
       "      <td>60.00</td>\n",
       "      <td>2</td>\n",
       "      <td>0.052585</td>\n",
       "    </tr>\n",
       "    <tr>\n",
       "      <th>13318</th>\n",
       "      <td>Super built-up  Area</td>\n",
       "      <td>Padmanabhanagar</td>\n",
       "      <td>4689.0</td>\n",
       "      <td>4.0</td>\n",
       "      <td>488.00</td>\n",
       "      <td>4</td>\n",
       "      <td>0.104073</td>\n",
       "    </tr>\n",
       "    <tr>\n",
       "      <th>13319</th>\n",
       "      <td>Super built-up  Area</td>\n",
       "      <td>Doddathoguru</td>\n",
       "      <td>550.0</td>\n",
       "      <td>1.0</td>\n",
       "      <td>17.00</td>\n",
       "      <td>1</td>\n",
       "      <td>0.030909</td>\n",
       "    </tr>\n",
       "  </tbody>\n",
       "</table>\n",
       "<p>13320 rows × 7 columns</p>\n",
       "</div>"
      ],
      "text/plain": [
       "                  area_type                  location  total_sqft  bath  \\\n",
       "0      Super built-up  Area  Electronic City Phase II      1056.0   2.0   \n",
       "1                Plot  Area          Chikka Tirupathi      2600.0   5.0   \n",
       "2            Built-up  Area               Uttarahalli      1440.0   2.0   \n",
       "3      Super built-up  Area        Lingadheeranahalli      1521.0   3.0   \n",
       "4      Super built-up  Area                  Kothanur      1200.0   2.0   \n",
       "...                     ...                       ...         ...   ...   \n",
       "13315        Built-up  Area                Whitefield      3453.0   4.0   \n",
       "13316  Super built-up  Area                     other      3600.0   5.0   \n",
       "13317        Built-up  Area     Raja Rajeshwari Nagar      1141.0   2.0   \n",
       "13318  Super built-up  Area           Padmanabhanagar      4689.0   4.0   \n",
       "13319  Super built-up  Area              Doddathoguru       550.0   1.0   \n",
       "\n",
       "        price  bhk  price_per_sqrft  \n",
       "0       39.07    2         0.036998  \n",
       "1      120.00    4         0.046154  \n",
       "2       62.00    3         0.043056  \n",
       "3       95.00    3         0.062459  \n",
       "4       51.00    2         0.042500  \n",
       "...       ...  ...              ...  \n",
       "13315  231.00    5         0.066898  \n",
       "13316  400.00    4         0.111111  \n",
       "13317   60.00    2         0.052585  \n",
       "13318  488.00    4         0.104073  \n",
       "13319   17.00    1         0.030909  \n",
       "\n",
       "[13320 rows x 7 columns]"
      ]
     },
     "execution_count": 497,
     "metadata": {},
     "output_type": "execute_result"
    }
   ],
   "source": [
    "data"
   ]
  },
  {
   "cell_type": "markdown",
   "id": "827f15d1",
   "metadata": {},
   "source": [
    "### In all data there is always some outliers so removing that is important\n",
    "#### Here I used IQR - Inter Quantile Range to find and remove the outliers"
   ]
  },
  {
   "cell_type": "markdown",
   "id": "043abed5",
   "metadata": {},
   "source": [
    "###### Removing all columns outliers"
   ]
  },
  {
   "cell_type": "code",
   "execution_count": 498,
   "id": "887ab672",
   "metadata": {},
   "outputs": [],
   "source": [
    "def quantile(y,x):\n",
    "    q1,q3=x.quantile(0.25),x.quantile(0.75)\n",
    "\n",
    "    iqr=q3-q1\n",
    "    low,high=q1-1.5*iqr,q3+1.5*iqr\n",
    "    y=y[(x>=low)&(x<=high)]\n",
    "    return y"
   ]
  },
  {
   "cell_type": "markdown",
   "id": "ce54000d",
   "metadata": {},
   "source": [
    "###### why I have taken 1.5 that's the basic practice I think"
   ]
  },
  {
   "cell_type": "code",
   "execution_count": 499,
   "id": "173e9943",
   "metadata": {},
   "outputs": [
    {
     "data": {
      "text/plain": [
       "(12044, 7)"
      ]
     },
     "execution_count": 499,
     "metadata": {},
     "output_type": "execute_result"
    }
   ],
   "source": [
    "data=quantile(data,data.price)\n",
    "data.shape"
   ]
  },
  {
   "cell_type": "code",
   "execution_count": 500,
   "id": "2b8ced9a",
   "metadata": {},
   "outputs": [
    {
     "data": {
      "text/plain": [
       "(11474, 7)"
      ]
     },
     "execution_count": 500,
     "metadata": {},
     "output_type": "execute_result"
    }
   ],
   "source": [
    "data=quantile(data,data.bath)\n",
    "data.shape"
   ]
  },
  {
   "cell_type": "code",
   "execution_count": 501,
   "id": "15da8134",
   "metadata": {},
   "outputs": [
    {
     "data": {
      "text/plain": [
       "(10932, 7)"
      ]
     },
     "execution_count": 501,
     "metadata": {},
     "output_type": "execute_result"
    }
   ],
   "source": [
    "data=quantile(data,data.total_sqft)\n",
    "data.shape"
   ]
  },
  {
   "cell_type": "code",
   "execution_count": 502,
   "id": "3ea5b780",
   "metadata": {},
   "outputs": [
    {
     "data": {
      "text/plain": [
       "(10818, 7)"
      ]
     },
     "execution_count": 502,
     "metadata": {},
     "output_type": "execute_result"
    }
   ],
   "source": [
    "data=quantile(data,data.bhk)\n",
    "data.shape"
   ]
  },
  {
   "cell_type": "code",
   "execution_count": 503,
   "id": "66d1e6bc",
   "metadata": {
    "scrolled": true
   },
   "outputs": [
    {
     "data": {
      "text/html": [
       "<div>\n",
       "<style scoped>\n",
       "    .dataframe tbody tr th:only-of-type {\n",
       "        vertical-align: middle;\n",
       "    }\n",
       "\n",
       "    .dataframe tbody tr th {\n",
       "        vertical-align: top;\n",
       "    }\n",
       "\n",
       "    .dataframe thead th {\n",
       "        text-align: right;\n",
       "    }\n",
       "</style>\n",
       "<table border=\"1\" class=\"dataframe\">\n",
       "  <thead>\n",
       "    <tr style=\"text-align: right;\">\n",
       "      <th></th>\n",
       "      <th>area_type</th>\n",
       "      <th>location</th>\n",
       "      <th>total_sqft</th>\n",
       "      <th>bath</th>\n",
       "      <th>price</th>\n",
       "      <th>bhk</th>\n",
       "      <th>price_per_sqrft</th>\n",
       "    </tr>\n",
       "  </thead>\n",
       "  <tbody>\n",
       "    <tr>\n",
       "      <th>0</th>\n",
       "      <td>Super built-up  Area</td>\n",
       "      <td>Electronic City Phase II</td>\n",
       "      <td>1056.0</td>\n",
       "      <td>2.0</td>\n",
       "      <td>39.07</td>\n",
       "      <td>2</td>\n",
       "      <td>0.036998</td>\n",
       "    </tr>\n",
       "    <tr>\n",
       "      <th>2</th>\n",
       "      <td>Built-up  Area</td>\n",
       "      <td>Uttarahalli</td>\n",
       "      <td>1440.0</td>\n",
       "      <td>2.0</td>\n",
       "      <td>62.00</td>\n",
       "      <td>3</td>\n",
       "      <td>0.043056</td>\n",
       "    </tr>\n",
       "    <tr>\n",
       "      <th>3</th>\n",
       "      <td>Super built-up  Area</td>\n",
       "      <td>Lingadheeranahalli</td>\n",
       "      <td>1521.0</td>\n",
       "      <td>3.0</td>\n",
       "      <td>95.00</td>\n",
       "      <td>3</td>\n",
       "      <td>0.062459</td>\n",
       "    </tr>\n",
       "    <tr>\n",
       "      <th>4</th>\n",
       "      <td>Super built-up  Area</td>\n",
       "      <td>Kothanur</td>\n",
       "      <td>1200.0</td>\n",
       "      <td>2.0</td>\n",
       "      <td>51.00</td>\n",
       "      <td>2</td>\n",
       "      <td>0.042500</td>\n",
       "    </tr>\n",
       "    <tr>\n",
       "      <th>5</th>\n",
       "      <td>Super built-up  Area</td>\n",
       "      <td>Whitefield</td>\n",
       "      <td>1170.0</td>\n",
       "      <td>2.0</td>\n",
       "      <td>38.00</td>\n",
       "      <td>2</td>\n",
       "      <td>0.032479</td>\n",
       "    </tr>\n",
       "  </tbody>\n",
       "</table>\n",
       "</div>"
      ],
      "text/plain": [
       "              area_type                  location  total_sqft  bath  price  \\\n",
       "0  Super built-up  Area  Electronic City Phase II      1056.0   2.0  39.07   \n",
       "2        Built-up  Area               Uttarahalli      1440.0   2.0  62.00   \n",
       "3  Super built-up  Area        Lingadheeranahalli      1521.0   3.0  95.00   \n",
       "4  Super built-up  Area                  Kothanur      1200.0   2.0  51.00   \n",
       "5  Super built-up  Area                Whitefield      1170.0   2.0  38.00   \n",
       "\n",
       "   bhk  price_per_sqrft  \n",
       "0    2         0.036998  \n",
       "2    3         0.043056  \n",
       "3    3         0.062459  \n",
       "4    2         0.042500  \n",
       "5    2         0.032479  "
      ]
     },
     "execution_count": 503,
     "metadata": {},
     "output_type": "execute_result"
    }
   ],
   "source": [
    "data.head()"
   ]
  },
  {
   "cell_type": "markdown",
   "id": "89be2553",
   "metadata": {},
   "source": [
    "###### Data is now clean "
   ]
  },
  {
   "cell_type": "markdown",
   "id": "00a21965",
   "metadata": {},
   "source": [
    "### now we have to convert the catagoricals features to some understandable data by the code \n",
    "### So Encoding the features by Get dummies method"
   ]
  },
  {
   "cell_type": "code",
   "execution_count": 504,
   "id": "4fd05800",
   "metadata": {},
   "outputs": [],
   "source": [
    "# Get a Pd.Series consisting of all the string categoricals\n",
    "one_hot_encode_cols = data.dtypes[data.dtypes == object]  # filtering by string categoricals\n",
    "one_hot_encode_cols = one_hot_encode_cols.index.tolist()  # list of categorical fields\n",
    "\n",
    "# Encode these columns as categoricals so one hot encoding works on split data (if desired)\n",
    "for col in one_hot_encode_cols:\n",
    "    data[col] = pd.Categorical(data[col])\n",
    "\n",
    "# Do the one hot encoding\n",
    "data = pd.get_dummies(data, columns=one_hot_encode_cols)"
   ]
  },
  {
   "cell_type": "code",
   "execution_count": 505,
   "id": "2c15eb96",
   "metadata": {},
   "outputs": [
    {
     "data": {
      "text/plain": [
       "(10818, 250)"
      ]
     },
     "execution_count": 505,
     "metadata": {},
     "output_type": "execute_result"
    }
   ],
   "source": [
    "data.shape"
   ]
  },
  {
   "cell_type": "markdown",
   "id": "879b2f9f",
   "metadata": {},
   "source": [
    "##### now we can see the increase in columns"
   ]
  },
  {
   "cell_type": "markdown",
   "id": "ad0d2fa2",
   "metadata": {},
   "source": [
    "##### Why not did the polynomial features method because it will increased the columns drastically to  above some 30000+ that will overfit or have some worst impact in the model."
   ]
  },
  {
   "cell_type": "markdown",
   "id": "6e6b003d",
   "metadata": {},
   "source": [
    "## Model selection and Prediction"
   ]
  },
  {
   "cell_type": "markdown",
   "id": "a90fc063",
   "metadata": {},
   "source": [
    "###### importing some important lib's"
   ]
  },
  {
   "cell_type": "code",
   "execution_count": 506,
   "id": "feeb615c",
   "metadata": {},
   "outputs": [],
   "source": [
    "from sklearn.preprocessing import OneHotEncoder, StandardScaler, PolynomialFeatures\n",
    "from sklearn.linear_model import LinearRegression,Lasso,Ridge\n",
    "from sklearn.pipeline import Pipeline\n",
    "from sklearn.model_selection import train_test_split\n",
    "from sklearn.model_selection import KFold, cross_val_predict\n",
    "from sklearn.metrics import r2_score"
   ]
  },
  {
   "cell_type": "markdown",
   "id": "72a08706",
   "metadata": {},
   "source": [
    "##### Seperating the result columns from the dataset"
   ]
  },
  {
   "cell_type": "code",
   "execution_count": 507,
   "id": "c503095b",
   "metadata": {},
   "outputs": [
    {
     "data": {
      "text/plain": [
       "(10818, 249)"
      ]
     },
     "execution_count": 507,
     "metadata": {},
     "output_type": "execute_result"
    }
   ],
   "source": [
    "Y=data['price']\n",
    "X=data.drop('price', axis=1)\n",
    "X.shape"
   ]
  },
  {
   "cell_type": "markdown",
   "id": "ce61258e",
   "metadata": {},
   "source": [
    "#### Spilting the data into train and test sets "
   ]
  },
  {
   "cell_type": "code",
   "execution_count": 508,
   "id": "b9370de6",
   "metadata": {},
   "outputs": [
    {
     "data": {
      "text/html": [
       "<div>\n",
       "<style scoped>\n",
       "    .dataframe tbody tr th:only-of-type {\n",
       "        vertical-align: middle;\n",
       "    }\n",
       "\n",
       "    .dataframe tbody tr th {\n",
       "        vertical-align: top;\n",
       "    }\n",
       "\n",
       "    .dataframe thead th {\n",
       "        text-align: right;\n",
       "    }\n",
       "</style>\n",
       "<table border=\"1\" class=\"dataframe\">\n",
       "  <thead>\n",
       "    <tr style=\"text-align: right;\">\n",
       "      <th></th>\n",
       "      <th>total_sqft</th>\n",
       "      <th>bath</th>\n",
       "      <th>bhk</th>\n",
       "      <th>price_per_sqrft</th>\n",
       "      <th>area_type_Built-up  Area</th>\n",
       "      <th>area_type_Carpet  Area</th>\n",
       "      <th>area_type_Plot  Area</th>\n",
       "      <th>area_type_Super built-up  Area</th>\n",
       "      <th>location_1st Block Jayanagar</th>\n",
       "      <th>location_1st Phase JP Nagar</th>\n",
       "      <th>...</th>\n",
       "      <th>location_Vishveshwarya Layout</th>\n",
       "      <th>location_Vishwapriya Layout</th>\n",
       "      <th>location_Vittasandra</th>\n",
       "      <th>location_Whitefield</th>\n",
       "      <th>location_Yelachenahalli</th>\n",
       "      <th>location_Yelahanka</th>\n",
       "      <th>location_Yelahanka New Town</th>\n",
       "      <th>location_Yelenahalli</th>\n",
       "      <th>location_Yeshwanthpur</th>\n",
       "      <th>location_other</th>\n",
       "    </tr>\n",
       "  </thead>\n",
       "  <tbody>\n",
       "    <tr>\n",
       "      <th>808</th>\n",
       "      <td>1352.0</td>\n",
       "      <td>3.0</td>\n",
       "      <td>3</td>\n",
       "      <td>0.099852</td>\n",
       "      <td>0</td>\n",
       "      <td>0</td>\n",
       "      <td>0</td>\n",
       "      <td>1</td>\n",
       "      <td>0</td>\n",
       "      <td>0</td>\n",
       "      <td>...</td>\n",
       "      <td>0</td>\n",
       "      <td>0</td>\n",
       "      <td>0</td>\n",
       "      <td>0</td>\n",
       "      <td>0</td>\n",
       "      <td>0</td>\n",
       "      <td>0</td>\n",
       "      <td>0</td>\n",
       "      <td>0</td>\n",
       "      <td>1</td>\n",
       "    </tr>\n",
       "    <tr>\n",
       "      <th>10651</th>\n",
       "      <td>1200.0</td>\n",
       "      <td>1.0</td>\n",
       "      <td>1</td>\n",
       "      <td>0.037500</td>\n",
       "      <td>0</td>\n",
       "      <td>0</td>\n",
       "      <td>1</td>\n",
       "      <td>0</td>\n",
       "      <td>0</td>\n",
       "      <td>0</td>\n",
       "      <td>...</td>\n",
       "      <td>0</td>\n",
       "      <td>0</td>\n",
       "      <td>0</td>\n",
       "      <td>0</td>\n",
       "      <td>0</td>\n",
       "      <td>0</td>\n",
       "      <td>0</td>\n",
       "      <td>0</td>\n",
       "      <td>0</td>\n",
       "      <td>0</td>\n",
       "    </tr>\n",
       "    <tr>\n",
       "      <th>11130</th>\n",
       "      <td>1204.0</td>\n",
       "      <td>2.0</td>\n",
       "      <td>2</td>\n",
       "      <td>0.048173</td>\n",
       "      <td>0</td>\n",
       "      <td>0</td>\n",
       "      <td>0</td>\n",
       "      <td>1</td>\n",
       "      <td>0</td>\n",
       "      <td>0</td>\n",
       "      <td>...</td>\n",
       "      <td>0</td>\n",
       "      <td>0</td>\n",
       "      <td>0</td>\n",
       "      <td>0</td>\n",
       "      <td>0</td>\n",
       "      <td>0</td>\n",
       "      <td>0</td>\n",
       "      <td>0</td>\n",
       "      <td>0</td>\n",
       "      <td>0</td>\n",
       "    </tr>\n",
       "    <tr>\n",
       "      <th>11812</th>\n",
       "      <td>1344.0</td>\n",
       "      <td>4.0</td>\n",
       "      <td>4</td>\n",
       "      <td>0.062500</td>\n",
       "      <td>0</td>\n",
       "      <td>0</td>\n",
       "      <td>1</td>\n",
       "      <td>0</td>\n",
       "      <td>0</td>\n",
       "      <td>0</td>\n",
       "      <td>...</td>\n",
       "      <td>0</td>\n",
       "      <td>0</td>\n",
       "      <td>0</td>\n",
       "      <td>0</td>\n",
       "      <td>0</td>\n",
       "      <td>0</td>\n",
       "      <td>0</td>\n",
       "      <td>0</td>\n",
       "      <td>0</td>\n",
       "      <td>1</td>\n",
       "    </tr>\n",
       "    <tr>\n",
       "      <th>4806</th>\n",
       "      <td>1041.0</td>\n",
       "      <td>2.0</td>\n",
       "      <td>2</td>\n",
       "      <td>0.035005</td>\n",
       "      <td>0</td>\n",
       "      <td>0</td>\n",
       "      <td>0</td>\n",
       "      <td>1</td>\n",
       "      <td>0</td>\n",
       "      <td>0</td>\n",
       "      <td>...</td>\n",
       "      <td>0</td>\n",
       "      <td>0</td>\n",
       "      <td>0</td>\n",
       "      <td>0</td>\n",
       "      <td>0</td>\n",
       "      <td>0</td>\n",
       "      <td>0</td>\n",
       "      <td>0</td>\n",
       "      <td>0</td>\n",
       "      <td>0</td>\n",
       "    </tr>\n",
       "  </tbody>\n",
       "</table>\n",
       "<p>5 rows × 249 columns</p>\n",
       "</div>"
      ],
      "text/plain": [
       "       total_sqft  bath  bhk  price_per_sqrft  area_type_Built-up  Area  \\\n",
       "808        1352.0   3.0    3         0.099852                         0   \n",
       "10651      1200.0   1.0    1         0.037500                         0   \n",
       "11130      1204.0   2.0    2         0.048173                         0   \n",
       "11812      1344.0   4.0    4         0.062500                         0   \n",
       "4806       1041.0   2.0    2         0.035005                         0   \n",
       "\n",
       "       area_type_Carpet  Area  area_type_Plot  Area  \\\n",
       "808                         0                     0   \n",
       "10651                       0                     1   \n",
       "11130                       0                     0   \n",
       "11812                       0                     1   \n",
       "4806                        0                     0   \n",
       "\n",
       "       area_type_Super built-up  Area  location_1st Block Jayanagar  \\\n",
       "808                                 1                             0   \n",
       "10651                               0                             0   \n",
       "11130                               1                             0   \n",
       "11812                               0                             0   \n",
       "4806                                1                             0   \n",
       "\n",
       "       location_1st Phase JP Nagar  ...  location_Vishveshwarya Layout  \\\n",
       "808                              0  ...                              0   \n",
       "10651                            0  ...                              0   \n",
       "11130                            0  ...                              0   \n",
       "11812                            0  ...                              0   \n",
       "4806                             0  ...                              0   \n",
       "\n",
       "       location_Vishwapriya Layout  location_Vittasandra  location_Whitefield  \\\n",
       "808                              0                     0                    0   \n",
       "10651                            0                     0                    0   \n",
       "11130                            0                     0                    0   \n",
       "11812                            0                     0                    0   \n",
       "4806                             0                     0                    0   \n",
       "\n",
       "       location_Yelachenahalli  location_Yelahanka  \\\n",
       "808                          0                   0   \n",
       "10651                        0                   0   \n",
       "11130                        0                   0   \n",
       "11812                        0                   0   \n",
       "4806                         0                   0   \n",
       "\n",
       "       location_Yelahanka New Town  location_Yelenahalli  \\\n",
       "808                              0                     0   \n",
       "10651                            0                     0   \n",
       "11130                            0                     0   \n",
       "11812                            0                     0   \n",
       "4806                             0                     0   \n",
       "\n",
       "       location_Yeshwanthpur  location_other  \n",
       "808                        0               1  \n",
       "10651                      0               0  \n",
       "11130                      0               0  \n",
       "11812                      0               1  \n",
       "4806                       0               0  \n",
       "\n",
       "[5 rows x 249 columns]"
      ]
     },
     "execution_count": 508,
     "metadata": {},
     "output_type": "execute_result"
    }
   ],
   "source": [
    "X_train, X_test, y_train, y_test = train_test_split(X, Y, test_size=0.3, \n",
    "                                                    random_state=72018)\n",
    "X_train.head()"
   ]
  },
  {
   "cell_type": "code",
   "execution_count": 509,
   "id": "b61f9009",
   "metadata": {},
   "outputs": [
    {
     "data": {
      "text/plain": [
       "(7572, 249)"
      ]
     },
     "execution_count": 509,
     "metadata": {},
     "output_type": "execute_result"
    }
   ],
   "source": [
    " X_train.shape"
   ]
  },
  {
   "cell_type": "markdown",
   "id": "9dfe8f48",
   "metadata": {},
   "source": [
    "### now doing simple Linear Regression"
   ]
  },
  {
   "cell_type": "code",
   "execution_count": 510,
   "id": "24f47127",
   "metadata": {},
   "outputs": [],
   "source": [
    "lr=LinearRegression()\n",
    "lr.fit(X_train,y_train)\n",
    "y_pred=lr.predict(X_test)"
   ]
  },
  {
   "cell_type": "markdown",
   "id": "eb3f971c",
   "metadata": {},
   "source": [
    "##### to measure the models ability we use R2 score method"
   ]
  },
  {
   "cell_type": "code",
   "execution_count": 511,
   "id": "ca638134",
   "metadata": {},
   "outputs": [
    {
     "data": {
      "text/plain": [
       "0.9177203395474964"
      ]
     },
     "execution_count": 511,
     "metadata": {},
     "output_type": "execute_result"
    }
   ],
   "source": [
    "r2_score(y_test,y_pred)"
   ]
  },
  {
   "cell_type": "markdown",
   "id": "4bf2cd53",
   "metadata": {},
   "source": [
    "#### The above score is not a good one."
   ]
  },
  {
   "cell_type": "markdown",
   "id": "0f845fea",
   "metadata": {},
   "source": [
    "### Now Ridge Regression"
   ]
  },
  {
   "cell_type": "markdown",
   "id": "51eb29eb",
   "metadata": {},
   "source": [
    "###### I have to say you this the alpha value I have put below are the values I separetly got from GridsearchCV method."
   ]
  },
  {
   "cell_type": "code",
   "execution_count": 512,
   "id": "72920388",
   "metadata": {},
   "outputs": [],
   "source": [
    "r=Ridge(alpha=155.2415126477287)\n",
    "s=StandardScaler()\n",
    "X_train_s=s.fit_transform(X_train)\n",
    "r.fit(X_train_s,y_train)\n",
    "X_test_s=s.transform(X_test)\n",
    "ypred=r.predict(X_test_s)\n"
   ]
  },
  {
   "cell_type": "code",
   "execution_count": 513,
   "id": "fa2d46df",
   "metadata": {},
   "outputs": [
    {
     "data": {
      "text/plain": [
       "0.9208669544949858"
      ]
     },
     "execution_count": 513,
     "metadata": {},
     "output_type": "execute_result"
    }
   ],
   "source": [
    "r2_score(y_test,ypred)"
   ]
  },
  {
   "cell_type": "markdown",
   "id": "b37ed61a",
   "metadata": {},
   "source": [
    "### Ridge with Inbuilt cross validation method"
   ]
  },
  {
   "cell_type": "code",
   "execution_count": 514,
   "id": "fb04b75d",
   "metadata": {},
   "outputs": [
    {
     "data": {
      "text/plain": [
       "0.9180520124031952"
      ]
     },
     "execution_count": 514,
     "metadata": {},
     "output_type": "execute_result"
    }
   ],
   "source": [
    "from sklearn.linear_model import RidgeCV\n",
    "alphas = np.geomspace(10, 20, 100)\n",
    "\n",
    "ridgeCV = RidgeCV(alphas=alphas, \n",
    "                  cv=4).fit(X_train_s, y_train)\n",
    "\n",
    "ypredrcv=ridgeCV.predict(X_test_s)\n",
    "\n",
    "r2_score(y_test,ypredrcv)"
   ]
  },
  {
   "cell_type": "code",
   "execution_count": 515,
   "id": "f5e89ab2",
   "metadata": {},
   "outputs": [
    {
     "data": {
      "text/plain": [
       "11.912904922546383"
      ]
     },
     "execution_count": 515,
     "metadata": {},
     "output_type": "execute_result"
    }
   ],
   "source": [
    "ridgeCV.alpha_"
   ]
  },
  {
   "cell_type": "markdown",
   "id": "45d260fa",
   "metadata": {},
   "source": [
    "### Now Lasso Resgression"
   ]
  },
  {
   "cell_type": "code",
   "execution_count": 516,
   "id": "7f86ba86",
   "metadata": {},
   "outputs": [
    {
     "data": {
      "text/plain": [
       "0.9192117478310915"
      ]
     },
     "execution_count": 516,
     "metadata": {},
     "output_type": "execute_result"
    }
   ],
   "source": [
    "la=Lasso(alpha=0.10045155619488594)\n",
    "X_train_ss=s.fit_transform(X_train)\n",
    "la.fit(X_train_ss,y_train)\n",
    "X_test_ss=s.transform(X_test)\n",
    "ypred1=la.predict(X_test_ss)\n",
    "r2_score(y_test,ypred1)"
   ]
  },
  {
   "cell_type": "markdown",
   "id": "93023b75",
   "metadata": {},
   "source": [
    "Lasso with cv"
   ]
  },
  {
   "cell_type": "code",
   "execution_count": 517,
   "id": "31755f62",
   "metadata": {},
   "outputs": [
    {
     "data": {
      "text/plain": [
       "0.9192266542667579"
      ]
     },
     "execution_count": 517,
     "metadata": {},
     "output_type": "execute_result"
    }
   ],
   "source": [
    "from sklearn.linear_model import LassoCV\n",
    "alphass = np.geomspace(0.1, 10, 100)\n",
    "\n",
    "lassoCV = LassoCV(alphas=alphass, \n",
    "                  cv=4).fit(X_train_ss, y_train)\n",
    "\n",
    "ypredlcv=lassoCV.predict(X_test_ss)\n",
    "\n",
    "r2_score(y_test,ypredlcv)"
   ]
  },
  {
   "cell_type": "code",
   "execution_count": 518,
   "id": "e1305862",
   "metadata": {},
   "outputs": [
    {
     "data": {
      "text/plain": [
       "0.10476157527896648"
      ]
     },
     "execution_count": 518,
     "metadata": {},
     "output_type": "execute_result"
    }
   ],
   "source": [
    "lassoCV.alpha_"
   ]
  },
  {
   "cell_type": "markdown",
   "id": "b429c7c4",
   "metadata": {},
   "source": [
    "#### All R2 scores "
   ]
  },
  {
   "cell_type": "code",
   "execution_count": 519,
   "id": "505d7178",
   "metadata": {
    "scrolled": true
   },
   "outputs": [
    {
     "name": "stdout",
     "output_type": "stream",
     "text": [
      "Linear Regression: 0.9177203395474964\n",
      "Ridge r2 score: 0.9208669544949858\n",
      "RidgeCV r2 score: 0.9180520124031952\n",
      "lasso r2 score: 0.9192117478310915\n",
      "LassoCV r2 score: 0.9192266542667579\n"
     ]
    }
   ],
   "source": [
    "print('Linear Regression:',r2_score(y_test,y_pred))\n",
    "print('Ridge r2 score:',r2_score(y_test,ypred))\n",
    "print('RidgeCV r2 score:',r2_score(y_test,ypredrcv))\n",
    "print('lasso r2 score:',r2_score(y_test,ypred1))\n",
    "print('LassoCV r2 score:',r2_score(y_test,ypredlcv))"
   ]
  },
  {
   "cell_type": "markdown",
   "id": "6bc42248",
   "metadata": {},
   "source": [
    "#### Lasso score is better."
   ]
  },
  {
   "cell_type": "markdown",
   "id": "953525f9",
   "metadata": {},
   "source": [
    "### As Far I know i did good. now some insights"
   ]
  },
  {
   "cell_type": "markdown",
   "id": "6692fd0e",
   "metadata": {},
   "source": [
    "    In this above models Lasso model is good when compared to others i have come up with the alpha values from i did    \n",
    "    GridsearchCV in another notebook. For both the ridge and the lasso I did GridsearchCV seperately."
   ]
  },
  {
   "cell_type": "markdown",
   "id": "f35016de",
   "metadata": {},
   "source": [
    "    The 90 + something of r2 score is good but we can do more by working Indepth with this data, and it maybe worthit. \n",
    "    That's the view i have about this dataset. when we see above there is no more difference in Ridge model and with the \n",
    "    Ridge Cross val mode but both is less scored then the Lasso."
   ]
  },
  {
   "cell_type": "markdown",
   "id": "2d918744",
   "metadata": {},
   "source": [
    "     I think this is good dataset to practics ML but with further more features and rows can help by to predict more \n",
    "     accuratly but of course with this also we can do more that needs more processing and more Trail and Error methods."
   ]
  },
  {
   "cell_type": "markdown",
   "id": "36c757d1",
   "metadata": {},
   "source": [
    "## Suggestions about data"
   ]
  },
  {
   "cell_type": "markdown",
   "id": "ea4c7808",
   "metadata": {},
   "source": [
    "####    This Lasso here maybe promising but it may not also good model. I have not done the ELASTIC NET model that maybe a good one. we dont know that now, so doing some more model enchancement and introducing more models with more parameters can defintly helpful to improve further more the model."
   ]
  },
  {
   "cell_type": "markdown",
   "id": "d9e8bb42",
   "metadata": {},
   "source": [
    "\n",
    "#### Have good day or Night."
   ]
  }
 ],
 "metadata": {
  "kernelspec": {
   "display_name": "Python 3 (ipykernel)",
   "language": "python",
   "name": "python3"
  },
  "language_info": {
   "codemirror_mode": {
    "name": "ipython",
    "version": 3
   },
   "file_extension": ".py",
   "mimetype": "text/x-python",
   "name": "python",
   "nbconvert_exporter": "python",
   "pygments_lexer": "ipython3",
   "version": "3.9.10"
  }
 },
 "nbformat": 4,
 "nbformat_minor": 5
}
